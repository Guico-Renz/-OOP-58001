{
  "cells": [
    {
      "cell_type": "markdown",
      "metadata": {
        "id": "view-in-github",
        "colab_type": "text"
      },
      "source": [
        "<a href=\"https://colab.research.google.com/github/Guico-Renz/-OOP-58001/blob/main/Activity2.ipynb\" target=\"_parent\"><img src=\"https://colab.research.google.com/assets/colab-badge.svg\" alt=\"Open In Colab\"/></a>"
      ]
    },
    {
      "cell_type": "markdown",
      "metadata": {
        "id": "8a_towIQKyGU"
      },
      "source": [
        "#Display all prime numbers less than 20 "
      ]
    },
    {
      "cell_type": "code",
      "source": [
        "class Node:\n",
        "  def __init__(self,data):\n",
        "    self.data = data\n",
        "    self.next = None\n",
        "\n",
        "class Linked_List:\n",
        "  def __init__(self):\n",
        "    self.head = None\n",
        "    self.tail = None\n",
        "\n",
        "  def printprimelist(self):\n",
        "    value = self.head\n",
        "    while(value!=None):\n",
        "      print(\"Prime numbers less than 20: \", value.data)\n",
        "      value = value.next\n",
        "\n",
        "list = Linked_List() #prime number must have two positive factors\n",
        "list.head = Node(2)  #Since 1 is neither prime nor composite, it is not included in the list\n",
        "second = Node(3)\n",
        "third = Node(5)\n",
        "fourth = Node(7)\n",
        "fifth = Node(11)\n",
        "sixth = Node(13)\n",
        "seventh = Node(17)\n",
        "eight = Node(19)\n",
        "\n",
        "list.head.next = second\n",
        "second.next = third\n",
        "third.next = fourth\n",
        "fourth.next = fifth\n",
        "fifth.next = sixth\n",
        "sixth.next = seventh\n",
        "seventh.next = eight\n",
        "\n",
        "print(\"Head:\",list.head.data)\n",
        "print(\"Tail:\",seventh.next.data)\n",
        "list.printprimelist()"
      ],
      "metadata": {
        "colab": {
          "base_uri": "https://localhost:8080/"
        },
        "id": "RGj05ZUpYvfS",
        "outputId": "cd1129f7-9867-4fb2-ec99-4e6aefe9d8f5"
      },
      "execution_count": 65,
      "outputs": [
        {
          "output_type": "stream",
          "name": "stdout",
          "text": [
            "Head: 2\n",
            "Tail: 19\n",
            "Prime numbers less than 20:  2\n",
            "Prime numbers less than 20:  3\n",
            "Prime numbers less than 20:  5\n",
            "Prime numbers less than 20:  7\n",
            "Prime numbers less than 20:  11\n",
            "Prime numbers less than 20:  13\n",
            "Prime numbers less than 20:  17\n",
            "Prime numbers less than 20:  19\n"
          ]
        }
      ]
    }
  ],
  "metadata": {
    "colab": {
      "provenance": [],
      "authorship_tag": "ABX9TyOrISGIkhVhFdZTGmUDotAY",
      "include_colab_link": true
    },
    "kernelspec": {
      "display_name": "Python 3",
      "name": "python3"
    },
    "language_info": {
      "name": "python"
    }
  },
  "nbformat": 4,
  "nbformat_minor": 0
}