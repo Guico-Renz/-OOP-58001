{
  "nbformat": 4,
  "nbformat_minor": 0,
  "metadata": {
    "colab": {
      "name": "Prelim Exam.ipynb",
      "provenance": [],
      "authorship_tag": "ABX9TyMfwbi2qj85vPZ/oMwFi/HI",
      "include_colab_link": true
    },
    "kernelspec": {
      "name": "python3",
      "display_name": "Python 3"
    },
    "language_info": {
      "name": "python"
    }
  },
  "cells": [
    {
      "cell_type": "markdown",
      "metadata": {
        "id": "view-in-github",
        "colab_type": "text"
      },
      "source": [
        "<a href=\"https://colab.research.google.com/github/Guico-Renz/-OOP-58001/blob/main/Prelim_Exam.ipynb\" target=\"_parent\"><img src=\"https://colab.research.google.com/assets/colab-badge.svg\" alt=\"Open In Colab\"/></a>"
      ]
    },
    {
      "cell_type": "markdown",
      "source": [
        "**Prelim Exam**"
      ],
      "metadata": {
        "id": "OTs51BIXLgWw"
      }
    },
    {
      "cell_type": "markdown",
      "source": [
        "\n",
        "\n",
        "*   Write a Python to display your full name, student number, age, and course\n",
        "*   Create a class named Student with attributes: Name, Student_No, Age, School, and Course\n",
        "*   Create an object name Myself and assign an instance for each attribute.\n",
        "*   Create a method Self () using an instantiation of a class.\n",
        "*   Insert your GitHub link \"Prelim Exam\" from your repository named \"OOP 58001\"\n",
        "\n",
        "\n",
        "\n",
        "\n",
        "\n"
      ],
      "metadata": {
        "id": "KG42MF7sLvSl"
      }
    },
    {
      "cell_type": "markdown",
      "source": [
        ""
      ],
      "metadata": {
        "id": "p2dXTjwTLlK1"
      }
    },
    {
      "cell_type": "code",
      "execution_count": 2,
      "metadata": {
        "colab": {
          "base_uri": "https://localhost:8080/"
        },
        "id": "vMJS3jj0ExlQ",
        "outputId": "814f8432-1db5-40aa-d130-8a728ec0ab21"
      },
      "outputs": [
        {
          "output_type": "stream",
          "name": "stdout",
          "text": [
            "My name is Renz Julius Guico\n",
            "My student number is 202110527\n",
            "I am 19 years old\n",
            "I am studying BS Computer Engineering at Adamson University\n"
          ]
        }
      ],
      "source": [
        "class Student:\n",
        "  def __init__(self, name, studnumber, studage, studschool, studcourse):\n",
        "    self.name = name\n",
        "    self.snumber = studnumber\n",
        "    self.age = studage\n",
        "    self.school = studschool\n",
        "    self.course = studcourse\n",
        "\n",
        "  def Myself (self):\n",
        "    print (\"My name is\", self.name)\n",
        "    print (\"My student number is\", self.snumber)\n",
        "    print (\"I am\", self.age, \"years old\")\n",
        "    print (\"I am studying\", self.course, \"at\", self.school)\n",
        "    \n",
        "\n",
        "Clap = Student (\"Renz Julius Guico\", 202110527, 19, \"Adamson University\", \"BS Computer Engineering\")\n",
        "Clap.Myself()"
      ]
    }
  ]
}