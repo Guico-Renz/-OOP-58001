{
  "nbformat": 4,
  "nbformat_minor": 0,
  "metadata": {
    "colab": {
      "name": "Midterm Exam (Guico).ipynb",
      "provenance": [],
      "authorship_tag": "ABX9TyMveifU7A/SGG1dm50wN4KT",
      "include_colab_link": true
    },
    "kernelspec": {
      "name": "python3",
      "display_name": "Python 3"
    },
    "language_info": {
      "name": "python"
    }
  },
  "cells": [
    {
      "cell_type": "markdown",
      "metadata": {
        "id": "view-in-github",
        "colab_type": "text"
      },
      "source": [
        "<a href=\"https://colab.research.google.com/github/Guico-Renz/-OOP-58001/blob/main/Midterm_Exam_(Guico).ipynb\" target=\"_parent\"><img src=\"https://colab.research.google.com/assets/colab-badge.svg\" alt=\"Open In Colab\"/></a>"
      ]
    },
    {
      "cell_type": "markdown",
      "source": [
        "##Temperature Conversion"
      ],
      "metadata": {
        "id": "2w8y3aayXwJC"
      }
    },
    {
      "cell_type": "code",
      "execution_count": 11,
      "metadata": {
        "colab": {
          "base_uri": "https://localhost:8080/"
        },
        "id": "HllZPYz6Xn6I",
        "outputId": "533be8d3-1d20-4130-df7c-3f636e2d7a04"
      },
      "outputs": [
        {
          "output_type": "stream",
          "name": "stdout",
          "text": [
            "Enter the temperature in Celsius: 10\n",
            "283.15 Kelvin\n",
            "50.0 Fahrenheit\n",
            "Enter the temperature in Farenheit: 800\n",
            "-12.222222222222221 Celsius\n",
            "Enter the te1mperature in Kelvin: 800\n",
            "-263.15 Celsius\n"
          ]
        }
      ],
      "source": [
        "def main():\n",
        "\n",
        "  \n",
        "\n",
        " class TemperatureConversion:\n",
        "  def __init__(self, temp=1):\n",
        "    self._temp = temp\n",
        "    \n",
        " class CelsiusToFahrenheit(TemperatureConversion):\n",
        "  def conversion(self):\n",
        "    return (self._temp * 9) / 5 + 32\n",
        "\n",
        " class FarenheitToCelsius(TemperatureConversion):\n",
        "  def conversion(self):\n",
        "    return ((self._temp - 32) * 5) / 9\n",
        "\n",
        " class CelsiusToKelvin(TemperatureConversion):\n",
        "  def conversion(self):\n",
        "    return self._temp + 273.15\n",
        "\n",
        " class KelvinToCelsius(TemperatureConversion):\n",
        "  def conversion(self):\n",
        "    return self._temp - 273.15\n",
        "\n",
        " \n",
        " tempInCelsius = float(input(\"Enter the temperature in Celsius: \"))\n",
        " convert = CelsiusToKelvin(tempInCelsius)\n",
        " print(str(convert.conversion()) + \" Kelvin\")\n",
        " convert = CelsiusToFahrenheit(tempInCelsius)\n",
        " print(str(convert.conversion()) + \" Fahrenheit\")\n",
        "\n",
        " tempInFarenheit = float(input(\"Enter the temperature in Farenheit: \"))\n",
        " convert = FarenheitToCelsius(tempInCelsius)\n",
        " print(str(convert.conversion()) + \" Celsius\")\n",
        "\n",
        " tempInKelvin = float(input(\"Enter the te1mperature in Kelvin: \"))\n",
        " convert = KelvinToCelsius(tempInCelsius)\n",
        " print(str(convert.conversion()) + \" Celsius\")\n",
        "\n",
        "\n",
        "main()"
      ]
    }
  ]
}