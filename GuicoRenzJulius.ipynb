{
  "nbformat": 4,
  "nbformat_minor": 0,
  "metadata": {
    "colab": {
      "name": "GuicoRenzJulius.ipynb",
      "provenance": [],
      "authorship_tag": "ABX9TyObBnv59yfbbnrJvCau9T0z",
      "include_colab_link": true
    },
    "kernelspec": {
      "name": "python3",
      "display_name": "Python 3"
    },
    "language_info": {
      "name": "python"
    }
  },
  "cells": [
    {
      "cell_type": "markdown",
      "metadata": {
        "id": "view-in-github",
        "colab_type": "text"
      },
      "source": [
        "<a href=\"https://colab.research.google.com/github/Guico-Renz/-OOP-58001/blob/main/GuicoRenzJulius.ipynb\" target=\"_parent\"><img src=\"https://colab.research.google.com/assets/colab-badge.svg\" alt=\"Open In Colab\"/></a>"
      ]
    },
    {
      "cell_type": "markdown",
      "source": [
        "#Classes with multiple objects"
      ],
      "metadata": {
        "id": "skhdnfWIJbqv"
      }
    },
    {
      "cell_type": "code",
      "source": [
        "class Birds:\n",
        "  def __init__ (self, bird_name):\n",
        "    self.bird_name = bird_name\n",
        "  \n",
        "  def flying_birds (self):\n",
        "    print (f\"{self.bird_name} flies above the clouds\")\n",
        "  def non_flying_birds (self):\n",
        "    print (f\"{self.bird_name} is the national bird of the Philippines\")\n",
        "\n",
        "vulture = Birds (\"Griffin Vulture\")\n",
        "crane = Birds (\"Common Crane\")\n",
        "emu = Birds (\"Philippine Eagle\")\n",
        "\n",
        "vulture.flying_birds()\n",
        "crane.flying_birds()\n",
        "emu.non_flying_birds()"
      ],
      "metadata": {
        "colab": {
          "base_uri": "https://localhost:8080/"
        },
        "id": "N9mOeZRiJitE",
        "outputId": "53bd5d4d-8868-4bb6-9eab-d09d585188dd"
      },
      "execution_count": 2,
      "outputs": [
        {
          "output_type": "stream",
          "name": "stdout",
          "text": [
            "Griffin Vulture flies above the clouds\n",
            "Common Crane flies above the clouds\n",
            "Philippine Eagle is the national bird of the Philippines\n"
          ]
        }
      ]
    },
    {
      "cell_type": "markdown",
      "source": [
        "#Encapsulation"
      ],
      "metadata": {
        "id": "fbbOtRtoJ6pA"
      }
    },
    {
      "cell_type": "code",
      "source": [
        "class tol:\n",
        "  def __init__ (self, a, b):\n",
        "    self.a = a\n",
        "    self.b = b\n",
        "  \n",
        "  def add (self):\n",
        "    return self.a + self.b\n",
        "\n",
        "tol_object = tol (4, 8)\n",
        "\n",
        "tol_object.a = 7\n",
        "tol_object.add()"
      ],
      "metadata": {
        "colab": {
          "base_uri": "https://localhost:8080/"
        },
        "id": "DB7wAcTnJ9_c",
        "outputId": "dfee4109-aab9-4200-a472-128ade0e94a0"
      },
      "execution_count": 6,
      "outputs": [
        {
          "output_type": "execute_result",
          "data": {
            "text/plain": [
              "15"
            ]
          },
          "metadata": {},
          "execution_count": 6
        }
      ]
    },
    {
      "cell_type": "code",
      "source": [
        "class counter:\n",
        "  def __init__(self):\n",
        "    self.current = 0\n",
        "  def increment(self):\n",
        "    self.current += 1\n",
        "  def value(self):\n",
        "    return self.current\n",
        "  def reset(self):\n",
        "    self.current = 0\n",
        "\n",
        "counter = counter()\n",
        "\n",
        "counter.increment()\n",
        "counter.increment()\n",
        "counter.increment()\n",
        "\n",
        "print (counter.value())\n",
        "print (counter.reset())"
      ],
      "metadata": {
        "colab": {
          "base_uri": "https://localhost:8080/"
        },
        "id": "VBdwqFigKSbd",
        "outputId": "e045b0b5-c8d6-4c5b-c749-576190977e38"
      },
      "execution_count": 8,
      "outputs": [
        {
          "output_type": "stream",
          "name": "stdout",
          "text": [
            "3\n",
            "None\n"
          ]
        }
      ]
    },
    {
      "cell_type": "markdown",
      "source": [
        "#Inheritance"
      ],
      "metadata": {
        "id": "7nrxfNpNKZ-_"
      }
    },
    {
      "cell_type": "code",
      "source": [
        "class Person:\n",
        "  def __init__ (self,fname,sname):\n",
        "    self.fname = fname\n",
        "    self.sname = sname\n",
        "  def printname (self):\n",
        "    print(self.fname, self.sname)\n",
        "\n",
        "x = Person(\"Taylor\",\"Smith\")\n",
        "x.printname()\n",
        "\n",
        "class Teacher(Person):\n",
        "  pass\n",
        "\n",
        "x = Teacher(\"George\",\"Marquez\")\n",
        "x.printname()"
      ],
      "metadata": {
        "colab": {
          "base_uri": "https://localhost:8080/"
        },
        "id": "bs43pN9zKdZR",
        "outputId": "87b58fbd-12ec-4067-faa6-ee94a0775681"
      },
      "execution_count": 10,
      "outputs": [
        {
          "output_type": "stream",
          "name": "stdout",
          "text": [
            "Taylor Smith\n",
            "George Marquez\n"
          ]
        }
      ]
    },
    {
      "cell_type": "markdown",
      "source": [
        "#Polymorphism"
      ],
      "metadata": {
        "id": "t4RZGmJjKsBz"
      }
    },
    {
      "cell_type": "code",
      "source": [
        "class RegularPolygon:\n",
        "    def __init__ (self, side):\n",
        "        self._side = side\n",
        "class Square (RegularPolygon):\n",
        "    def area (self):\n",
        "        return self._side * self._side\n",
        "class EquilateralTriangle (RegularPolygon):\n",
        "    def area (self):\n",
        "        return self._side * self._side * 0.433\n",
        "\n",
        "obj1 = Square(4)\n",
        "obj2 = EquilateralTriangle(3)\n",
        "\n",
        "print (obj1.area())\n",
        "print (obj2.area())"
      ],
      "metadata": {
        "colab": {
          "base_uri": "https://localhost:8080/"
        },
        "id": "KMiDYKxOKvne",
        "outputId": "27240752-236b-4e9f-b869-d6e30a640dda"
      },
      "execution_count": 11,
      "outputs": [
        {
          "output_type": "stream",
          "name": "stdout",
          "text": [
            "16\n",
            "3.897\n"
          ]
        }
      ]
    },
    {
      "cell_type": "markdown",
      "source": [
        "#Class with Multiple Objects Application\n",
        "\n",
        "*   Create a Python program that displays the name of 3 students (Student 1,\n",
        "Student 2, Student 3) and their grades.\n",
        "*   Create a class name \"Person\" and attributes - std1, std2, std3, pre, mid, fin\n",
        "*   Compute for the average grade of each term using Grade() method\n",
        "*   Information about student's grades must be hidden from others"
      ],
      "metadata": {
        "id": "J3-cUGC4K10d"
      }
    },
    {
      "cell_type": "code",
      "source": [
        "import random\n",
        "\n",
        "class Person:\n",
        "  def __init__ (self, student, pl, mt, fnls):\n",
        "    self.student = student\n",
        "    self.pl = pl *0.30\n",
        "    self.mt = mt *0.30\n",
        "    self.fnls = fnls *0.40\n",
        "\n",
        "  def Grade (self):\n",
        "    print (self.student, \"'s average grade is\", self.pl, \"in prelims\")\n",
        "    print (self.student, \"'s average grade is\", self.mt, \"in midterms\")\n",
        "    print (self.student, \"'s average grade is\", self.fnls, \"in finals\")\n",
        "\n",
        "std1 = Person (\"Maurice\", random.randint(70,99), random.randint(70,99), random.randint(70,99))\n",
        "std2 = Person (\"Layla\", random.randint(70,99), random.randint(70,99), random.randint(70,99))\n",
        "std3 = Person (\"Jinkee\", random.randint(70,99), random.randint(70,99), random.randint(70,99))\n",
        "\n",
        "x = input(str(\"Choose a student to view his/her grade: \"))\n",
        "\n",
        "if x == \"Person1\":\n",
        " std1.Grade()\n",
        "else:\n",
        "  if x == \"Person2\":\n",
        "    std2.Grade()\n",
        "  else:\n",
        "    if x == \"Person3\":\n",
        "      std3.Grade()\n",
        "    else:\n",
        "      print(\"Student not found.\")"
      ],
      "metadata": {
        "colab": {
          "base_uri": "https://localhost:8080/"
        },
        "id": "4I-84BNqLUqT",
        "outputId": "e7bdc3b7-007d-4b35-b4b6-4dc11f036581"
      },
      "execution_count": 17,
      "outputs": [
        {
          "output_type": "stream",
          "name": "stdout",
          "text": [
            "Choose a student to view his/her grade: Person1\n",
            "Maurice 's average grade is 28.5 in prelims\n",
            "Maurice 's average grade is 28.5 in midterms\n",
            "Maurice 's average grade is 35.2 in finals\n"
          ]
        }
      ]
    }
  ]
}