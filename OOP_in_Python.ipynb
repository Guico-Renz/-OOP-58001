{
  "nbformat": 4,
  "nbformat_minor": 0,
  "metadata": {
    "colab": {
      "name": "OOP in Python.ipynb",
      "provenance": [],
      "authorship_tag": "ABX9TyMBbVCzae4f7rN8PRwIcBCX",
      "include_colab_link": true
    },
    "kernelspec": {
      "name": "python3",
      "display_name": "Python 3"
    },
    "language_info": {
      "name": "python"
    }
  },
  "cells": [
    {
      "cell_type": "markdown",
      "metadata": {
        "id": "view-in-github",
        "colab_type": "text"
      },
      "source": [
        "<a href=\"https://colab.research.google.com/github/Guico-Renz/-OOP-58001/blob/main/OOP_in_Python.ipynb\" target=\"_parent\"><img src=\"https://colab.research.google.com/assets/colab-badge.svg\" alt=\"Open In Colab\"/></a>"
      ]
    },
    {
      "cell_type": "markdown",
      "source": [
        "#Create a Class"
      ],
      "metadata": {
        "id": "d2tY6pP2qwzo"
      }
    },
    {
      "cell_type": "code",
      "source": [
        "class Myclass:\n",
        "  pass             #to create a class without method"
      ],
      "metadata": {
        "id": "quAWZBliq1c_"
      },
      "execution_count": 1,
      "outputs": []
    },
    {
      "cell_type": "code",
      "source": [
        "class Myclass: #The name of the class\n",
        "  x = 40       #property of the class named MyClass\n"
      ],
      "metadata": {
        "id": "Oiw4JpCNrY0j"
      },
      "execution_count": 2,
      "outputs": []
    },
    {
      "cell_type": "code",
      "source": [
        "class Car():  #create a class named Car\n",
        " def __init__(self,name,color):\n",
        "   self.name = name              #represents the instance of class named car\n",
        "   self.color = color\n",
        "\n",
        " def description(self):\n",
        "  return self.name, self.color\n",
        "\n",
        " def display(self):\n",
        "   print(\"The name and the color of the car\",self.description())\n",
        "\n",
        "obj1 = Car(\"Toyota\",\"black\")     #to create an object with its attribute values\n",
        "obj1.display()\n"
      ],
      "metadata": {
        "colab": {
          "base_uri": "https://localhost:8080/"
        },
        "id": "Im7PsEhIsnRo",
        "outputId": "91aa4e31-5cd6-437b-b9e4-077b6b1387f2"
      },
      "execution_count": null,
      "outputs": [
        {
          "output_type": "stream",
          "name": "stdout",
          "text": [
            "The name and the color of the car ('Toyota', 'black')\n"
          ]
        }
      ]
    },
    {
      "cell_type": "markdown",
      "source": [
        "Modify an Object Property"
      ],
      "metadata": {
        "id": "wunqZkX_wqi0"
      }
    },
    {
      "cell_type": "code",
      "source": [
        "obj1.name = \"Mitsubishi\"\n",
        "print(obj1.name)"
      ],
      "metadata": {
        "colab": {
          "base_uri": "https://localhost:8080/"
        },
        "id": "u4Px6jxNwx8h",
        "outputId": "91f97159-e2a3-461e-af07-4148fba9463d"
      },
      "execution_count": null,
      "outputs": [
        {
          "output_type": "stream",
          "name": "stdout",
          "text": [
            "Mitsubishi\n"
          ]
        }
      ]
    },
    {
      "cell_type": "code",
      "source": [
        "obj1.display()"
      ],
      "metadata": {
        "colab": {
          "base_uri": "https://localhost:8080/"
        },
        "id": "VfMuyL_RxU_o",
        "outputId": "bdb6747e-038c-4176-cb8e-7d767aa88456"
      },
      "execution_count": null,
      "outputs": [
        {
          "output_type": "stream",
          "name": "stdout",
          "text": [
            "The name and the color of the car ('Mitsubishi', 'black')\n"
          ]
        }
      ]
    },
    {
      "cell_type": "markdown",
      "source": [
        "Delete the Object Property"
      ],
      "metadata": {
        "id": "pR9GUgNvxp2k"
      }
    },
    {
      "cell_type": "code",
      "source": [
        "#Deleting the Object\n",
        "del obj1.color"
      ],
      "metadata": {
        "colab": {
          "base_uri": "https://localhost:8080/",
          "height": 165
        },
        "id": "u3UCS5D9xyCr",
        "outputId": "1eaa9660-9588-4bc0-b1a3-b30fbadc6c72"
      },
      "execution_count": 3,
      "outputs": [
        {
          "output_type": "error",
          "ename": "NameError",
          "evalue": "ignored",
          "traceback": [
            "\u001b[0;31m---------------------------------------------------------------------------\u001b[0m",
            "\u001b[0;31mNameError\u001b[0m                                 Traceback (most recent call last)",
            "\u001b[0;32m<ipython-input-3-d76ac01c484b>\u001b[0m in \u001b[0;36m<module>\u001b[0;34m()\u001b[0m\n\u001b[0;32m----> 1\u001b[0;31m \u001b[0;32mdel\u001b[0m \u001b[0mobj1\u001b[0m\u001b[0;34m.\u001b[0m\u001b[0mcolor\u001b[0m\u001b[0;34m\u001b[0m\u001b[0;34m\u001b[0m\u001b[0m\n\u001b[0m",
            "\u001b[0;31mNameError\u001b[0m: name 'obj1' is not defined"
          ]
        }
      ]
    },
    {
      "cell_type": "code",
      "source": [
        "obj2 = Car(\"BMW\",\"red\")\n",
        "obj2.display()"
      ],
      "metadata": {
        "colab": {
          "base_uri": "https://localhost:8080/"
        },
        "id": "cjxYX7GF0A0X",
        "outputId": "95933a38-c18a-41b3-c6eb-08282026949c"
      },
      "execution_count": null,
      "outputs": [
        {
          "output_type": "stream",
          "name": "stdout",
          "text": [
            "The name and the color of the car ('BMW', 'red')\n"
          ]
        }
      ]
    },
    {
      "cell_type": "markdown",
      "source": [
        "Application 1 - Write a Python program to compute the area and perimeter of a rectangle. Use Rectangle as class name and length and width as attributes"
      ],
      "metadata": {
        "id": "1npRVNHe1tX8"
      }
    },
    {
      "cell_type": "code",
      "source": [
        "class Rectangle():\n",
        "   def __init__ (self, length, width):\n",
        "     self.length = length\n",
        "     self.width = width\n",
        "\n",
        "   def Area (self):\n",
        "     return self.length * self.width\n",
        "\n",
        "   def Perimeter (self):\n",
        "     return 2 * (self.length + self.width)\n",
        "\n",
        "   def display(self):\n",
        "      print(\"The area of the rectangle is\", self.Area())\n",
        "      print(\"The perimeter if the rectangle is\", self.Perimeter())\n",
        "\n",
        "pol = Rectangle (7 , 4.5)\n",
        "pol.display()"
      ],
      "metadata": {
        "colab": {
          "base_uri": "https://localhost:8080/"
        },
        "id": "Wr8ndBNQ2Qpn",
        "outputId": "53125b40-aec8-4189-9b83-25e4aac4b1a5"
      },
      "execution_count": 10,
      "outputs": [
        {
          "output_type": "stream",
          "name": "stdout",
          "text": [
            "The area of the rectangle is 31.5\n",
            "The perimeter if the rectangle is 23.0\n"
          ]
        }
      ]
    },
    {
      "cell_type": "markdown",
      "source": [
        "Application 2 - Write a python program to display a class name OOP_58001 with your student no. and full name (Surname,First Name) as attributes"
      ],
      "metadata": {
        "id": "BMR_vSL95Q05"
      }
    },
    {
      "cell_type": "code",
      "source": [
        "class OOP_58001:\n",
        "  def __init__(self, lname, fname, number):\n",
        "      self.lname = lname\n",
        "      self.fname = fname\n",
        "      self.number = number\n",
        "\n",
        "  def studname (self):\n",
        "    return self.fname + self.lname \n",
        "\n",
        "  def studnum (self):\n",
        "    return self.number\n",
        "\n",
        "  def display (self):\n",
        "    print (\"My name is\", self.studname())\n",
        "    print (\"My student number is\", self.studnum())\n",
        "\n",
        "student = OOP_58001 (\"Guico\", \"Renz Julius \", \"202110527\")\n",
        "student.display()"
      ],
      "metadata": {
        "id": "hHzRaFjo5kXr",
        "colab": {
          "base_uri": "https://localhost:8080/"
        },
        "outputId": "83282cf4-41b5-4d3a-ddef-8ed1ee396f4d"
      },
      "execution_count": 11,
      "outputs": [
        {
          "output_type": "stream",
          "name": "stdout",
          "text": [
            "My name is Renz Julius Guico\n",
            "My student number is 202110527\n"
          ]
        }
      ]
    }
  ]
}